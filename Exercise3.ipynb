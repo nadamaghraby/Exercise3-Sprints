{
  "nbformat": 4,
  "nbformat_minor": 0,
  "metadata": {
    "colab": {
      "name": "Exercise3.ipynb",
      "provenance": [],
      "collapsed_sections": []
    },
    "kernelspec": {
      "name": "python3",
      "display_name": "Python 3"
    },
    "language_info": {
      "name": "python"
    },
    "accelerator": "GPU",
    "gpuClass": "standard"
  },
  "cells": [
    {
      "cell_type": "markdown",
      "source": [
        "# Exercise 3"
      ],
      "metadata": {
        "id": "WHqX0Ajr9HGU"
      }
    },
    {
      "cell_type": "markdown",
      "source": [
        "## Feature Encoding"
      ],
      "metadata": {
        "id": "K2xpDHTF9qlm"
      }
    },
    {
      "cell_type": "code",
      "source": [
        "from sklearn.preprocessing import LabelEncoder\n",
        "def Feature_Encoder(X,cols):\n",
        "    for c in cols:\n",
        "        lbl = LabelEncoder()\n",
        "        lbl.fit(list(X[c].values))\n",
        "        X[c] = lbl.transform(list(X[c].values))\n",
        "    return X"
      ],
      "metadata": {
        "id": "UTn7M5DX9sTE"
      },
      "execution_count": 1,
      "outputs": []
    },
    {
      "cell_type": "markdown",
      "source": [
        "## Data preprocessing"
      ],
      "metadata": {
        "id": "yWuaAPV29wsS"
      }
    },
    {
      "cell_type": "code",
      "source": [
        "# Import libraries\n",
        "import numpy as np\n",
        "import pandas as pd\n",
        "import seaborn as sns\n",
        "import matplotlib.pyplot as plt\n",
        "from sklearn import linear_model\n",
        "from sklearn import metrics\n",
        "from sklearn.model_selection import train_test_split\n",
        "\n",
        "# Pre-processing\n",
        "#Load players data\n",
        "data = pd.read_csv('fifa19.csv')\n",
        "#Drop the rows that contain missing values\n",
        "data.dropna(how='any',inplace=True)\n",
        "fifa_data=data.iloc[:,:]\n",
        "X=data.iloc[:,1:40] #Features\n",
        "print(X)\n",
        "Y=data['Value'] #Label\n",
        "cols=('Nationality','Club','Position')\n",
        "X=Feature_Encoder(X,cols);\n",
        "\n",
        "#Split the data to training and testing sets\n",
        "X_train, X_test, y_train, y_test = train_test_split(X, Y, test_size = 0.30,shuffle=True)\n",
        "#Get the correlation between the features\n",
        "corr = fifa_data.corr()\n",
        "#Top 50% Correlation training features with the Value\n",
        "top_feature = corr.index[abs(corr['Value']>0.5)]\n",
        "#Correlation plot\n",
        "plt.subplots(figsize=(12, 8))\n",
        "top_corr = fifa_data[top_feature].corr()\n",
        "sns.heatmap(top_corr, annot=True)\n",
        "plt.show()"
      ],
      "metadata": {
        "colab": {
          "base_uri": "https://localhost:8080/",
          "height": 1000
        },
        "id": "0OM4se_a9LcM",
        "outputId": "11487805-d40a-4d0b-caee-70f556e2872f"
      },
      "execution_count": 2,
      "outputs": [
        {
          "output_type": "stream",
          "name": "stdout",
          "text": [
            "       Age Nationality  Overall  Potential                 Club Position  \\\n",
            "0       31   Argentina       94         94         FC Barcelona       RF   \n",
            "1       33    Portugal       94         94             Juventus       ST   \n",
            "2       26      Brazil       92         93  Paris Saint-Germain       LW   \n",
            "3       27       Spain       91         93    Manchester United       GK   \n",
            "4       27     Belgium       91         92      Manchester City      RCM   \n",
            "...    ...         ...      ...        ...                  ...      ...   \n",
            "17950   19     England       47         65      Crewe Alexandra       CM   \n",
            "17951   19      Sweden       47         63       Trelleborgs FF       ST   \n",
            "17952   16     England       47         67     Cambridge United       ST   \n",
            "17953   17     England       47         66      Tranmere Rovers       RW   \n",
            "17954   16     England       46         66      Tranmere Rovers       CM   \n",
            "\n",
            "       Crossing  Finishing  HeadingAccuracy  ShortPassing  ...  Vision  \\\n",
            "0          84.0       95.0             70.0          90.0  ...    94.0   \n",
            "1          84.0       94.0             89.0          81.0  ...    82.0   \n",
            "2          79.0       87.0             62.0          84.0  ...    87.0   \n",
            "3          17.0       13.0             21.0          50.0  ...    68.0   \n",
            "4          93.0       82.0             55.0          92.0  ...    94.0   \n",
            "...         ...        ...              ...           ...  ...     ...   \n",
            "17950      34.0       38.0             40.0          49.0  ...    52.0   \n",
            "17951      23.0       52.0             52.0          43.0  ...    33.0   \n",
            "17952      25.0       40.0             46.0          38.0  ...    43.0   \n",
            "17953      44.0       50.0             39.0          42.0  ...    47.0   \n",
            "17954      41.0       34.0             46.0          48.0  ...    49.0   \n",
            "\n",
            "       Penalties  Composure  Marking  StandingTackle  SlidingTackle  GKDiving  \\\n",
            "0           75.0       96.0     33.0            28.0           26.0       6.0   \n",
            "1           85.0       95.0     28.0            31.0           23.0       7.0   \n",
            "2           81.0       94.0     27.0            24.0           33.0       9.0   \n",
            "3           40.0       68.0     15.0            21.0           13.0      90.0   \n",
            "4           79.0       88.0     68.0            58.0           51.0      15.0   \n",
            "...          ...        ...      ...             ...            ...       ...   \n",
            "17950       43.0       45.0     40.0            48.0           47.0      10.0   \n",
            "17951       43.0       42.0     22.0            15.0           19.0      10.0   \n",
            "17952       55.0       41.0     32.0            13.0           11.0       6.0   \n",
            "17953       50.0       46.0     20.0            25.0           27.0      14.0   \n",
            "17954       33.0       43.0     40.0            43.0           50.0      10.0   \n",
            "\n",
            "       GKHandling  GKKicking  GKPositioning  \n",
            "0            11.0       15.0           14.0  \n",
            "1            11.0       15.0           14.0  \n",
            "2             9.0       15.0           15.0  \n",
            "3            85.0       87.0           88.0  \n",
            "4            13.0        5.0           10.0  \n",
            "...           ...        ...            ...  \n",
            "17950        13.0        7.0            8.0  \n",
            "17951         9.0        9.0            5.0  \n",
            "17952         5.0       10.0            6.0  \n",
            "17953         6.0       14.0            8.0  \n",
            "17954        15.0        9.0           12.0  \n",
            "\n",
            "[17907 rows x 39 columns]\n"
          ]
        },
        {
          "output_type": "display_data",
          "data": {
            "text/plain": [
              "<Figure size 864x576 with 2 Axes>"
            ],
            "image/png": "[encoded data removed]"
          },
          "metadata": {
            "needs_background": "light"
          }
        }
      ]
    },
    {
      "cell_type": "markdown",
      "source": [
        "## Multiple Linear Regression"
      ],
      "metadata": {
        "id": "Ztb9rLzz98bI"
      }
    },
    {
      "cell_type": "code",
      "source": [
        "cls = linear_model.LinearRegression()\n",
        "L = 0.0000001  # The learning Rate\n",
        "epochs = 1000  # The number of iterations to perform gradient descent\n",
        "m1=0\n",
        "m2=0\n",
        "m3=0\n",
        "c=0\n",
        "n = float(len(X_train)) # Number of elements in X\n",
        "print(n)\n",
        "# D_m = np.zeros((3,)) #n=3\n",
        "# D_c = 0.\n",
        "# print(D_m)\n",
        "for i in range(epochs):\n",
        "  # Student code\n",
        "    # for k in range(int(n)):\n",
        "    Y_pred=m1*X_train[\"Reactions\"]+m2*X_train[\"Potential\"]+m3*X_train[\"Overall\"]+c\n",
        "    D_m1=(-2/n)*sum(X_train[\"Reactions\"]*(y_train-Y_pred))\n",
        "    D_m2=(-2/n)*sum(X_train[\"Potential\"]*(y_train-Y_pred))\n",
        "    D_m3=(-2/n)*sum(X_train[\"Overall\"]*(y_train-Y_pred))\n",
        "\n",
        "    D_c=(-2/n)*sum(y_train-Y_pred)\n",
        "  # Step : Update\n",
        "    m1 = m1 - L * D_m1  # Update m\n",
        "    m2 = m2 - L * D_m2  # Update m\n",
        "    m3 = m3 - L * D_m3  # Update m\n",
        "\n",
        "    c = c - L * D_c  # Update c\n",
        "  # Student code"
      ],
      "metadata": {
        "id": "MON9RfRu-GBk",
        "colab": {
          "base_uri": "https://localhost:8080/"
        },
        "outputId": "a4ae2906-0f0b-46c6-aa7a-3f683afc959d"
      },
      "execution_count": 3,
      "outputs": [
        {
          "output_type": "stream",
          "name": "stdout",
          "text": [
            "12534.0\n"
          ]
        }
      ]
    },
    {
      "cell_type": "markdown",
      "source": [
        "## Prediction"
      ],
      "metadata": {
        "id": "FmBrijtU-UQi"
      }
    },
    {
      "cell_type": "code",
      "source": [
        "prediction=np.array(X_test)[:,0]*m1+np.array(X_test)[:,1]*m2+np.array(X_test)[:,2]*m3+c\n",
        "\n",
        "cls.fit(X_train,y_train)\n",
        "prediction2= cls.predict(X_test)\n",
        "\n",
        "print('Co-efficient of linear regression',cls.coef_)\n",
        "print('Intercept of linear regression model',cls.intercept_)\n",
        "print('Mean Square Error', metrics.mean_squared_error(np.asarray(y_test), prediction))\n",
        "print('Mean Square Error 2', metrics.mean_squared_error(np.asarray(y_test), prediction2))\n",
        "\n",
        "true_player_value=np.asarray(y_test)[1]\n",
        "predicted_player_value=prediction[1]\n",
        "\n",
        "print('True value for the first player in the test set in millions is : ' + str(true_player_value))\n",
        "print('Predicted value for the first player in the test set in millions is : ' + str(predicted_player_value))"
      ],
      "metadata": {
        "colab": {
          "base_uri": "https://localhost:8080/"
        },
        "id": "_Do_JSiF-VSh",
        "outputId": "78f048bf-72c7-4581-b3e6-1701e15357db"
      },
      "execution_count": 4,
      "outputs": [
        {
          "output_type": "stream",
          "name": "stdout",
          "text": [
            "Co-efficient of linear regression [-2.80615107e-01 -7.75827693e-04  5.68606505e-01  4.95223490e-02\n",
            "  4.80032316e-04 -3.42299566e-03 -8.36492073e-03  1.04967933e-02\n",
            " -1.96447458e-02 -7.60292297e-03  2.93011402e-02  1.34858265e-03\n",
            " -3.56345220e-03  1.20223525e-02  5.05472398e-03 -5.32986185e-02\n",
            " -4.31324076e-03 -6.94922787e-03 -2.52071789e-02  4.63951883e-02\n",
            "  1.03401342e-02 -1.88854904e-02  3.10162335e-03 -5.91322771e-03\n",
            " -9.40371555e-03 -1.61367058e-02 -1.71070585e-03 -5.47043933e-03\n",
            "  1.04721569e-02  2.10150346e-02  6.98229694e-03  4.70146689e-03\n",
            "  7.40064263e-03 -3.14157330e-03 -3.36234484e-03 -1.21997268e-03\n",
            " -1.34450658e-02 -2.74068762e-03 -3.85997815e-02]\n",
            "Intercept of linear regression model -28.856327965364393\n",
            "Mean Square Error 38.77262044877905\n",
            "Mean Square Error 2 21.534005711225255\n",
            "True value for the first player in the test set in millions is : 0.35\n",
            "Predicted value for the first player in the test set in millions is : 2.206769397439999\n"
          ]
        }
      ]
    },
    {
      "cell_type": "markdown",
      "source": [
        "## Polynomial Regression"
      ],
      "metadata": {
        "id": "23JLL0Q3-WV4"
      }
    },
    {
      "cell_type": "code",
      "source": [
        "import numpy as np\n",
        "import pandas as pd\n",
        "import seaborn as sns\n",
        "import matplotlib.pyplot as plt\n",
        "from sklearn import linear_model\n",
        "from sklearn import metrics\n",
        "from sklearn.model_selection import train_test_split\n",
        "from sklearn.preprocessing import PolynomialFeatures\n",
        "\n",
        "#Load players data\n",
        "data = pd.read_csv('fifa19.csv')\n",
        "#Drop the rows that contain missing values\n",
        "data.dropna(how='any',inplace=True)\n",
        "fifa_data=data.iloc[:,:]\n",
        "X=data.iloc[:,1:40] #Features\n",
        "Y=data['Value'] #Label\n",
        "cols=('Nationality','Club','Position')\n",
        "X=Feature_Encoder(X,cols);\n",
        "\n",
        "#Split the data to training and testing sets\n",
        "X_train, X_test, y_train, y_test = train_test_split(X, Y, test_size = 0.30)\n",
        "#Get the correlation between the features\n",
        "corr = fifa_data.corr()\n",
        "#Top 50% Correlation training features with the Value\n",
        "top_feature = corr.index[abs(corr['Value']>0.5)]\n",
        "#Correlation plot\n",
        "plt.subplots(figsize=(12, 8))\n",
        "top_corr = fifa_data[top_feature].corr()\n",
        "sns.heatmap(top_corr, annot=True)\n",
        "plt.show()\n",
        "\n",
        "poly_features = PolynomialFeatures(degree=2)\n",
        "\n",
        "# transforms the existing features to higher degree features.\n",
        "X_train_poly = poly_features.fit_transform(X_train)\n",
        "\n",
        "# fit the transformed features to Linear Regression\n",
        "poly_model = linear_model.LinearRegression()\n",
        "poly_model.fit(X_train_poly, y_train)\n",
        "\n",
        "# predicting on training data-set\n",
        "y_train_predicted = poly_model.predict(X_train_poly)\n",
        "\n",
        "# predicting on test data-set\n",
        "prediction = poly_model.predict(poly_features.fit_transform(X_test))\n",
        "\n",
        "\n",
        "print('Co-efficient of linear regression',poly_model.coef_)\n",
        "print('Intercept of linear regression model',poly_model.intercept_)\n",
        "print('Mean Square Error', metrics.mean_squared_error(y_test, prediction))\n",
        "\n",
        "true_player_value=np.asarray(y_test)[0]\n",
        "predicted_player_value=prediction[0]\n",
        "print('True value for the first player in the test set in millions is : ' + str(true_player_value))\n",
        "print('Predicted value for the first player in the test set in millions is : ' + str(predicted_player_value))"
      ],
      "metadata": {
        "colab": {
          "base_uri": "https://localhost:8080/",
          "height": 1000
        },
        "id": "rIpjp5CJ-Xrc",
        "outputId": "46683cae-ef31-458a-bd99-1cef1f29e4a3"
      },
      "execution_count": 5,
      "outputs": [
        {
          "output_type": "display_data",
          "data": {
            "text/plain": [
              "<Figure size 864x576 with 2 Axes>"
            ],
            "image/png": "[encoded data removed]"
          },
          "metadata": {
            "needs_background": "light"
          }
        },
        {
          "output_type": "stream",
          "name": "stdout",
          "text": [
            "Co-efficient of linear regression [-3.33230119e-12  3.86763203e+00  1.06374903e-02 -6.01769156e+00\n",
            " -3.20830141e-03  2.16414048e-03  7.71521630e-02 -3.77085435e-02\n",
            " -1.51220795e-01  7.74999914e-02 -5.95623172e-02 -2.46920667e-01\n",
            "  2.59312221e-01  9.57184197e-02 -3.95198401e-01 -1.74039546e-02\n",
            "  2.59780319e-01  6.53455755e-02  1.09705586e-01  8.00718683e-02\n",
            " -4.97496459e-01 -7.43094199e-02  2.20731874e-01 -1.93500582e-02\n",
            " -5.53833761e-02  4.20951003e-02  1.96057392e-01  6.49428396e-02\n",
            " -2.12624109e-02 -1.71088330e-01 -1.15263263e-01 -2.99343972e-02\n",
            " -1.70556977e-02 -1.14049288e-01  9.42108825e-02  2.07979350e-01\n",
            "  1.12041471e-01  2.64689492e-01 -5.62493694e-02 -5.14969466e-02\n",
            " -1.19303737e-02  2.49436601e-04 -3.35643629e-02 -2.16001445e-02\n",
            " -2.09039184e-05 -1.91128471e-04  1.11461835e-03 -3.00456101e-04\n",
            "  1.08711201e-04  2.31407728e-03 -1.39226182e-03  1.04344018e-03\n",
            " -1.90811022e-03  3.45783283e-03 -5.10987435e-03  5.36647897e-03\n",
            " -5.69735984e-04 -2.17664494e-04  1.27890049e-03 -1.90197136e-03\n",
            " -1.65778895e-03  1.52179757e-03  1.79310505e-03  2.75755388e-04\n",
            " -3.51668143e-05 -7.08988957e-05  4.14210412e-04  4.30435562e-03\n",
            "  1.66266589e-03 -2.15799149e-03 -3.49137979e-04 -2.04160306e-03\n",
            "  1.09103836e-03  2.28914123e-03 -4.66811770e-03 -8.07300390e-04\n",
            "  5.47212455e-04  3.80936361e-03  3.96367387e-03  5.45944169e-06\n",
            " -8.73633750e-04  7.72340481e-05 -7.42559404e-07  1.17074517e-05\n",
            "  6.69950881e-06  7.73530315e-05  1.91884380e-04  8.73964400e-06\n",
            " -1.53282165e-06  8.09029798e-05 -3.04276158e-06  1.33850156e-05\n",
            " -6.45437451e-06  5.62878616e-05  4.75931629e-05  3.60619393e-05\n",
            "  1.27281214e-04 -9.37294201e-05 -1.90858499e-04  7.29941616e-05\n",
            "  4.66927262e-05  1.52173406e-05 -8.22269399e-05 -1.37530812e-04\n",
            "  1.42398916e-04  9.88020656e-05 -5.87469375e-06  9.32957065e-06\n",
            "  1.26264044e-05 -5.67464771e-05  1.35461964e-04  6.47531023e-05\n",
            " -1.52427829e-04 -8.77171348e-06  1.44089805e-04  2.64097531e-04\n",
            "  9.55128970e-05  5.76486343e-02  1.59092874e-02 -2.49781151e-05\n",
            "  2.10879452e-03 -2.28644732e-03  4.93194655e-04 -1.41439549e-03\n",
            " -1.61205628e-03  5.10630900e-03 -3.57911531e-03  2.98661242e-04\n",
            "  7.93179343e-04  5.72134757e-03 -8.82834853e-03 -6.35599063e-04\n",
            " -5.58847367e-04 -5.64215577e-04  3.37291369e-03  7.04114723e-04\n",
            " -4.17918193e-03  5.45338909e-05 -2.73057324e-04 -2.09712681e-03\n",
            " -1.49385670e-03 -1.02790181e-03 -3.62099087e-04  1.95428662e-04\n",
            " -2.27446046e-04  5.94865474e-04  1.20906232e-03 -2.61186883e-03\n",
            " -5.82324473e-03  2.24884979e-03 -2.94525724e-03 -1.61138722e-03\n",
            " -2.94806646e-03 -1.02533079e-02 -3.35806508e-03 -8.96186266e-06\n",
            " -1.63789071e-03  1.40668179e-03  7.02845326e-04  1.01818834e-03\n",
            "  2.20926347e-03  3.46001637e-04 -2.10493426e-03 -1.14081816e-03\n",
            "  3.42048170e-03 -2.89067101e-03  1.03651189e-03 -1.14363619e-03\n",
            " -5.91207012e-04 -8.97727000e-04  2.22029016e-03  1.22438318e-03\n",
            " -1.01234103e-03  4.25703261e-04 -3.15542184e-04 -3.17634482e-04\n",
            " -1.82320957e-03 -9.53567834e-04  7.23863264e-04  1.75469180e-03\n",
            " -2.07988419e-04  1.28856032e-03 -2.23564130e-03  1.54929745e-03\n",
            "  6.23805492e-04 -2.71493766e-03 -1.41393406e-03 -1.40372074e-03\n",
            " -6.63335322e-05  4.05473901e-03 -1.98240131e-06  1.96344869e-05\n",
            "  9.20190902e-06  1.33314801e-05 -2.07185827e-05 -3.54542762e-05\n",
            "  5.64404718e-06 -1.95584115e-05  7.92148493e-06 -6.67262710e-06\n",
            "  8.82565752e-06  5.16862743e-05 -9.97140705e-06 -6.38649213e-06\n",
            "  1.82528810e-05  3.91669872e-05 -1.26144419e-05 -8.25718730e-06\n",
            " -9.07752692e-06  1.69435308e-05  1.77792470e-05 -2.36819441e-05\n",
            "  8.76148671e-06 -9.61207954e-06 -1.58917700e-05  1.66864560e-06\n",
            "  6.73836193e-06 -1.55285257e-06 -9.29925547e-06  6.38395124e-06\n",
            "  4.83826871e-06 -8.06070039e-06 -7.71969610e-06 -2.31449509e-05\n",
            "  2.72763850e-05 -1.10509194e-03  3.59960164e-05 -4.10305190e-04\n",
            " -7.45945314e-04  3.66642839e-04 -4.29022842e-04  1.42013470e-04\n",
            " -1.18262454e-04 -3.18167783e-04  5.07679209e-04 -8.38078161e-04\n",
            "  3.01908252e-04 -3.42552051e-04  6.61729036e-04  5.92346466e-04\n",
            " -5.78672627e-04  1.12737928e-04 -5.46184997e-05 -3.20060545e-04\n",
            " -2.45475866e-04  5.28475174e-04 -2.55030873e-04 -6.23768533e-04\n",
            "  1.49995880e-04  2.48229826e-05 -2.33306395e-04  9.20715901e-06\n",
            " -1.85804194e-04  4.12198467e-04 -4.39288376e-04  2.14159089e-03\n",
            "  5.78063476e-04  7.77716178e-04  7.41100654e-04 -6.39557197e-05\n",
            " -2.30282032e-04  2.82189529e-04  1.90270679e-05 -1.59015665e-04\n",
            " -5.43065957e-04  9.46069036e-05 -1.16903043e-04 -2.34126577e-04\n",
            " -6.27661291e-04  4.96297795e-04 -3.62071135e-04 -4.16737527e-04\n",
            "  1.07747349e-03  3.63301571e-04 -8.68338278e-05  7.27249367e-05\n",
            "  5.16975495e-05  5.89332258e-04 -8.47593422e-06  1.53451210e-04\n",
            "  5.32549944e-04  1.69503401e-04  4.48226662e-04  4.51580261e-04\n",
            " -5.88604234e-04  7.56385315e-04 -4.89037897e-04 -6.47362113e-04\n",
            "  1.10502717e-03 -5.46856114e-04 -1.48393820e-03 -7.81919901e-05\n",
            "  7.84918291e-05 -3.66965652e-05 -1.52147174e-04  2.57614056e-04\n",
            "  2.26328603e-04  3.99862468e-04 -8.21420998e-05 -3.12166585e-04\n",
            " -9.00942056e-04  7.73462055e-04 -7.90528050e-04 -1.57332411e-04\n",
            "  7.74922446e-04 -3.04556543e-05  9.49090918e-06  4.81802437e-04\n",
            "  1.43206652e-04  1.67258887e-04 -2.59522383e-04  2.76472120e-04\n",
            " -1.44552162e-04  3.87292367e-04  4.35259982e-04 -7.17401243e-04\n",
            "  1.34676383e-04  9.43716820e-04 -5.97293137e-04  6.00897083e-05\n",
            "  5.20000274e-04 -3.40720467e-04 -2.49270173e-04 -2.01374399e-04\n",
            " -5.37268929e-04 -3.35075754e-04 -1.31771579e-04 -1.43529454e-04\n",
            "  5.86423870e-05  2.59829762e-04 -4.74295431e-04  2.15008194e-04\n",
            "  1.36310612e-03 -8.76975488e-04 -6.71436790e-04  4.72903372e-04\n",
            " -1.34625422e-04  4.28942592e-04 -1.92210479e-04  1.08082010e-04\n",
            " -3.94575116e-05 -1.41376016e-04  1.89922686e-04 -1.56073496e-04\n",
            " -3.66149602e-04  8.70782507e-04  7.04554918e-05 -6.62188165e-04\n",
            "  4.52787220e-04 -1.00855330e-03  7.87120507e-04 -2.03874394e-03\n",
            " -1.30877019e-03  1.56793398e-03  1.14176244e-03 -2.65493369e-04\n",
            " -7.60558165e-04  3.27972718e-04  4.85439784e-04 -7.54989280e-04\n",
            " -4.73142721e-04 -1.13060260e-03  4.04362616e-04  7.71535197e-04\n",
            " -6.22725834e-05  9.84286570e-05 -8.21937419e-05  8.88525690e-04\n",
            "  2.68820993e-05 -8.13738103e-04  2.91848813e-04  8.55474045e-04\n",
            " -4.54313359e-04  5.46551401e-04 -1.37777712e-04  5.14167092e-04\n",
            " -3.61041782e-04 -3.69840729e-04 -7.08354545e-04  8.62521851e-04\n",
            "  2.10929575e-04  1.02072733e-03 -8.52146344e-04  2.49836505e-04\n",
            " -1.18566205e-03  2.21319339e-04 -9.13864955e-05  2.32119586e-04\n",
            "  2.90432471e-04 -2.03496289e-04 -2.73480933e-04  1.63322944e-04\n",
            "  2.07173570e-04  2.15949939e-04 -1.40867326e-03  9.72831517e-05\n",
            " -8.75219190e-04 -3.01707145e-04 -1.40958051e-04  5.80719727e-05\n",
            "  2.07534033e-04  3.16299872e-05  3.80854576e-04 -2.04686861e-04\n",
            "  5.71671738e-04  5.28116070e-04 -3.57371815e-05 -3.72095371e-04\n",
            "  1.26105148e-04  2.43514717e-04 -2.97983810e-06  5.87560020e-04\n",
            "  6.47468003e-04 -1.13321525e-03  9.74407332e-04 -5.11982446e-04\n",
            "  4.07632093e-04  3.81988722e-04  1.00487039e-04 -2.87688753e-04\n",
            "  5.55769857e-05 -4.01771573e-04 -9.85918728e-04  1.62336277e-04\n",
            "  7.36033741e-04  2.52360957e-04 -8.88347187e-04  3.28694534e-04\n",
            " -8.41705947e-04  3.10706311e-04  1.45690164e-04 -1.46345193e-04\n",
            " -8.41756377e-04 -1.73306023e-04  2.14188472e-04 -9.17259111e-04\n",
            "  4.96202900e-04  1.63292406e-03 -1.81451433e-03  2.35376511e-03\n",
            "  1.06199785e-03  5.30058500e-04 -3.71018510e-04  2.50115071e-04\n",
            "  1.76790946e-05  2.77849788e-04 -4.14020604e-04  6.16133759e-05\n",
            "  4.00820264e-04  2.17219064e-04 -3.33991951e-04  2.28691993e-04\n",
            "  2.41491263e-04 -2.29618763e-04 -1.07391090e-04  1.13819550e-04\n",
            " -3.30196276e-04  3.83950383e-07 -2.85305189e-05 -4.20106891e-04\n",
            " -6.88865815e-05  2.13858569e-04 -1.68528785e-04 -3.91406714e-04\n",
            "  8.32008180e-04 -1.26651158e-03  1.86966718e-04 -4.42814909e-04\n",
            "  1.41893000e-03 -3.79578287e-05  1.85059875e-04 -7.85243340e-04\n",
            "  7.72436891e-04 -4.08145189e-05 -4.50767027e-04  3.24540801e-05\n",
            "  3.64407858e-04 -4.64538371e-04 -7.46131874e-05  1.20175465e-04\n",
            "  5.39810045e-04 -2.28101656e-04 -4.88878636e-05 -4.65380043e-04\n",
            "  3.45117274e-04  4.03980203e-05 -2.71182864e-04  1.28408758e-04\n",
            "  1.62508497e-04  4.30168453e-04 -3.61836052e-04 -1.44591273e-03\n",
            "  1.73341689e-04  1.36903510e-03 -2.54334571e-05  1.24932613e-04\n",
            " -5.32426341e-04 -9.21038596e-05 -8.08410085e-04 -2.15011356e-04\n",
            "  1.19726429e-04  7.83841891e-05 -2.07327686e-04  2.59654522e-04\n",
            "  6.50495336e-04 -7.34121459e-05 -3.08480723e-04 -2.70843626e-04\n",
            " -1.05283575e-03  7.73822970e-04 -4.48886259e-05  2.43306934e-04\n",
            "  1.07418885e-03  5.40001570e-04  8.03530509e-04 -7.28961314e-04\n",
            " -5.11610001e-04  1.37416581e-03 -9.98593543e-04 -3.70375338e-04\n",
            "  4.24005404e-04  9.32141926e-04  4.56355931e-06  1.19923528e-03\n",
            " -1.31599319e-03 -8.91865674e-04  2.72631050e-04 -7.61541706e-04\n",
            "  1.07921334e-03 -7.10908902e-04  6.38774752e-04 -1.53477863e-05\n",
            "  4.89046706e-04  1.34896959e-05  5.64419012e-04  1.50725277e-03\n",
            " -5.08574849e-05  1.11935378e-03  9.77051309e-04 -1.18258293e-03\n",
            "  1.68868364e-03 -1.80917414e-03 -6.28362925e-04  3.22584014e-03\n",
            "  2.78448184e-04 -7.34563850e-05  2.14514274e-04 -1.24500762e-03\n",
            " -1.04421142e-04 -3.70326236e-04 -3.18815246e-04 -1.57143771e-04\n",
            " -2.21848105e-04  2.79051635e-04  6.53707012e-04  1.97733578e-04\n",
            " -1.71281918e-03  2.83813527e-04 -8.80801906e-04  5.52069636e-04\n",
            "  4.44627702e-04 -5.52848461e-04 -6.42770694e-04  1.54276193e-03\n",
            "  7.75597036e-04 -3.23389575e-04 -6.88507636e-04  5.54155919e-05\n",
            " -5.06413352e-04  4.68586178e-04 -4.96673020e-04  6.84126595e-04\n",
            "  7.74537286e-05  1.66305447e-04  2.50284521e-04  5.11199305e-05\n",
            " -5.06229146e-04  6.55432805e-04  9.80205204e-04 -2.86546489e-04\n",
            " -3.20340706e-06 -3.57749187e-04 -4.44728343e-04 -1.60883348e-04\n",
            "  7.00204679e-04 -2.22572340e-03  4.10859165e-04  2.09210557e-03\n",
            " -3.50058174e-04 -7.97572525e-05 -8.56061879e-04  1.59800112e-04\n",
            "  3.95421521e-04  6.52113871e-04  2.60451134e-05 -3.91352532e-05\n",
            " -2.18072490e-04 -9.83520705e-05 -2.40259167e-04 -1.94694068e-04\n",
            "  3.79692088e-04 -1.72831006e-04 -1.33899651e-04  1.47711648e-04\n",
            "  1.42638980e-03 -1.00360182e-03  5.19320600e-04 -6.20906953e-04\n",
            " -6.72114835e-04  5.71004727e-04  1.19134670e-03  1.31142396e-03\n",
            " -1.21666901e-06 -5.80612997e-04  3.16005097e-04  6.07054125e-04\n",
            "  6.98767923e-04 -2.48844345e-04 -1.96698175e-03 -3.68695136e-04\n",
            "  3.88672616e-04 -4.17586331e-04  1.75374926e-03  4.29225606e-04\n",
            "  6.87242597e-04 -1.97920309e-04 -1.15039281e-03 -1.46396572e-04\n",
            "  6.77745402e-04  2.54163845e-04  4.74410283e-05 -7.75385773e-04\n",
            " -1.97201165e-04  1.26429575e-04 -2.81670984e-04  2.76879131e-04\n",
            "  3.66073429e-04 -3.74248270e-04  4.04736694e-04 -1.23838414e-04\n",
            "  2.39428782e-05  8.57093365e-04  3.13394681e-04 -5.28030272e-04\n",
            " -1.04324506e-04  8.04649846e-05 -6.45431561e-04  1.49637797e-05\n",
            " -1.24204805e-04  2.97649204e-04 -5.94023962e-06 -7.30793710e-05\n",
            " -2.63386995e-04 -2.49377030e-04 -1.19917528e-04 -1.96537046e-05\n",
            " -6.97787464e-04 -2.07080870e-04  3.48804781e-04 -4.02891584e-04\n",
            "  4.28396569e-04  6.65575065e-04 -2.26165747e-04  7.68304833e-04\n",
            "  1.01088391e-03  2.76008066e-04 -6.15098009e-04 -5.58802355e-05\n",
            " -1.40140018e-04  2.17947111e-04  7.11131344e-06 -3.09611384e-04\n",
            "  1.89772107e-04 -7.48016268e-06 -5.48431241e-05 -1.09825383e-04\n",
            " -2.16066398e-04 -1.19281379e-04 -5.50524717e-04  7.66957903e-04\n",
            " -4.66149077e-04 -1.08302298e-04  7.37226054e-05  3.91366081e-05\n",
            "  4.03116648e-04  1.05537276e-04 -6.83972143e-04  3.67789594e-04\n",
            " -4.48403641e-04  1.90418538e-04  2.08648448e-04  7.83296787e-04\n",
            " -5.30736476e-04  2.36099082e-04  2.81991295e-04 -5.13247617e-04\n",
            "  4.14480992e-04  1.23635428e-03 -1.69671135e-03  6.26439323e-04\n",
            " -2.03058646e-04  3.04249871e-04  2.29850222e-04 -3.50507560e-04\n",
            " -6.35197234e-05  4.11944981e-05 -2.46104960e-04  1.14494851e-03\n",
            "  2.13352703e-04  6.77907201e-04 -7.35403744e-04  8.94533139e-04\n",
            "  3.73557236e-04 -1.18780321e-03  5.84291422e-04  3.04682329e-04\n",
            " -8.66928360e-05  5.02376670e-04  1.07755789e-04 -2.11002284e-04\n",
            " -1.93321901e-04  6.60379579e-05 -2.31959162e-04 -7.71544693e-04\n",
            "  5.95607692e-04  1.12310337e-03 -6.28617481e-04 -9.72002143e-04\n",
            " -7.73067168e-05 -8.81379075e-05  2.71687649e-04 -7.82828658e-05\n",
            "  5.73015809e-04 -2.58117530e-04  3.20635271e-04  3.80018576e-05\n",
            "  3.43153612e-04 -6.56907649e-04 -8.17857589e-04 -3.03966894e-04\n",
            "  8.68297057e-04  6.87622793e-04 -1.57127361e-04 -2.29177218e-04\n",
            "  1.18464380e-03 -9.13829556e-04 -3.22678717e-04 -5.82285161e-06\n",
            " -1.66575716e-04 -2.69474038e-04  4.39181596e-04  4.52661253e-04\n",
            " -5.56168315e-04  3.84369336e-05  1.18108095e-04 -1.04235844e-04\n",
            " -2.04580570e-04 -5.80523585e-05 -1.49696782e-04  5.80733356e-04\n",
            "  5.77855739e-04 -8.25427264e-05 -9.21304518e-04  1.37426826e-03\n",
            " -3.13753865e-04  9.36143985e-06  1.13817810e-04 -2.80513983e-04\n",
            " -2.90612970e-04  2.04450155e-04 -9.13184768e-04  1.74365229e-04\n",
            "  4.20230676e-04  5.22640043e-04  6.10078401e-04  7.04703575e-06\n",
            " -7.09250091e-04 -4.40955030e-04 -2.09087815e-05  3.89585136e-04\n",
            "  1.20764216e-03 -1.01738832e-03 -1.71894199e-04  2.93652085e-04\n",
            "  1.24457804e-04  3.56726350e-04 -6.42768451e-04  5.91190052e-04\n",
            "  1.24018081e-03 -8.68675437e-04 -9.20452534e-04  1.09689317e-04\n",
            " -4.30552921e-04  2.70878442e-04 -2.73585007e-04 -1.25657997e-04\n",
            " -1.00843011e-05  8.16701595e-04  6.31450832e-04 -1.26570522e-03\n",
            "  1.84123493e-03  2.99654442e-03  4.04840992e-04 -1.53885179e-03\n",
            " -4.20007164e-04 -5.82696822e-04 -1.00219400e-03 -1.06005781e-03\n",
            "  2.83467064e-03 -6.30078175e-04 -3.54993400e-04  3.40781789e-03\n",
            "  8.87535612e-04 -2.24859806e-03 -3.07974084e-03 -3.86129836e-04\n",
            "  1.14156092e-03 -5.27327543e-04  2.60935786e-03  6.25018956e-04]\n",
            "Intercept of linear regression model 136.481343915341\n",
            "Mean Square Error 5.0080845191932175\n",
            "True value for the first player in the test set in millions is : 0.4\n",
            "Predicted value for the first player in the test set in millions is : -0.05746891582589342\n"
          ]
        }
      ]
    }
  ]
}